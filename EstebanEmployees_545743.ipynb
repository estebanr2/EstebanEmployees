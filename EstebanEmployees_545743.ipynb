{
  "nbformat": 4,
  "nbformat_minor": 0,
  "metadata": {
    "colab": {
      "provenance": [],
      "authorship_tag": "ABX9TyNsHg3tvD6v/tqlVkz0RbaD",
      "include_colab_link": true
    },
    "kernelspec": {
      "name": "python3",
      "display_name": "Python 3"
    },
    "language_info": {
      "name": "python"
    }
  },
  "cells": [
    {
      "cell_type": "markdown",
      "metadata": {
        "id": "view-in-github",
        "colab_type": "text"
      },
      "source": [
        "<a href=\"https://colab.research.google.com/github/estebanr2/EstebanEmployees/blob/main/EstebanEmployees_545743.ipynb\" target=\"_parent\"><img src=\"https://colab.research.google.com/assets/colab-badge.svg\" alt=\"Open In Colab\"/></a>"
      ]
    },
    {
      "cell_type": "code",
      "source": [
        "from abc import ABC, abstractmethod\n",
        "\n",
        "#AbstractEmployee class\n",
        "class AbstractEmployee(ABC):\n",
        "    new_id = 1\n",
        "\n",
        "    def __init__(self):\n",
        "        self.id = AbstractEmployee.new_id\n",
        "        AbstractEmployee.new_id += 1\n",
        "\n",
        "    @abstractmethod\n",
        "    def say_id(self):\n",
        "        pass\n",
        "\n",
        "#Employee class(Inherits from AbstractEmployee, contain functions or name company, saying the ID, getting, setting or deleting the employee's name)\n",
        "class Employee(AbstractEmployee):\n",
        "    new_id = 1\n",
        "\n",
        "    def __init__(self, name=None):\n",
        "        super().__init__()\n",
        "        self.__company = \"Ajonjofeel\" #Follow @Ajonjofeel on instagram if you like Sesame cream or milk :)\n",
        "        self._name = name\n",
        "\n",
        "    def say_id(self):\n",
        "        print(\"My id is\", self.id)\n",
        "\n",
        "    def get_name(self):\n",
        "        return self._name\n",
        "\n",
        "    def set_name(self, name):\n",
        "        self._name = name\n",
        "\n",
        "    def del_name(self):\n",
        "        print(f\"_{self._name} deleted\")\n",
        "        del self._name\n",
        "\n",
        "#User class, contains functions for assigning username and role to an user\n",
        "class User:\n",
        "    def __init__(self, username, role):\n",
        "        self.username = username\n",
        "        self.role = role\n",
        "\n",
        "    def say_user_info(self):\n",
        "        print(\"Username:\", self.username)\n",
        "        print(\"Role:\", self.role)\n",
        "\n",
        "#Admin class, use name and id from Employee and user classes\n",
        "class Admin(Employee, User):\n",
        "    def __init__(self, name=None):\n",
        "        super().__init__(name)\n",
        "        User.__init__(self, self.id, \"Admin\")\n",
        "\n",
        "    def say_id(self):\n",
        "        super().say_id()\n",
        "        print(\"I am an Admin\")\n",
        "\n",
        "#Manager class, inherits from Admin the say_id method\n",
        "class Manager(Admin):\n",
        "    def say_id(self):\n",
        "        print(\"I am in charge.\")\n",
        "        super().say_id()\n",
        "\n",
        "#Meeting class for add employees to a meeting, and return the number of employees in the meeting\n",
        "class Meeting:\n",
        "    def __init__(self):\n",
        "        self.attendees = []\n",
        "\n",
        "    def __add__(self, other):\n",
        "        self.attendees.append(other)\n",
        "        print(\"Employee with ID\",other.id,\"added successfully  \")\n",
        "        return self\n",
        "\n",
        "    def __len__(self):\n",
        "        return len(self.attendees)\n",
        "\n",
        "#Mikheltodd testing code\n",
        "e1 = Employee()\n",
        "e2 = Employee()\n",
        "e3 = Admin(\"Rowald\")\n",
        "e4 = Manager(\"Mikheltodd\")\n",
        "\n",
        "m1 = Meeting()\n",
        "m1 + e1\n",
        "m1 + e2\n",
        "m1 + e3\n",
        "m1 + e4\n",
        "print(f\"# Attendees to the meeting: {len(m1)}\")\n",
        "e1.set_name(\"Ryan\")\n",
        "for e in m1.attendees:\n",
        "  print(f\"\\nMy name is {e.get_name()} and I work for {e._Employee__company}\")\n",
        "  e.say_id()\n",
        "  try:\n",
        "    e.say_user_info()\n",
        "  except AttributeError:\n",
        "    continue\n",
        "e1.del_name()\n",
        "\n",
        "\n"
      ],
      "metadata": {
        "colab": {
          "base_uri": "https://localhost:8080/"
        },
        "id": "OwCJC8byJlBF",
        "outputId": "ee1528ac-2b65-434e-8705-7411ba7b6469"
      },
      "execution_count": null,
      "outputs": [
        {
          "output_type": "stream",
          "name": "stdout",
          "text": [
            "Employee with ID 1 added successfully  \n",
            "Employee with ID 2 added successfully  \n",
            "Employee with ID 3 added successfully  \n",
            "Employee with ID 4 added successfully  \n",
            "# Attendees to the meeting: 4\n",
            "\n",
            "My name is Ryan and I work for Ajonjofeel\n",
            "My id is 1\n",
            "\n",
            "My name is None and I work for Ajonjofeel\n",
            "My id is 2\n",
            "\n",
            "My name is Rowald and I work for Ajonjofeel\n",
            "My id is 3\n",
            "I am an Admin\n",
            "Username: 3\n",
            "Role: Admin\n",
            "\n",
            "My name is Mikheltodd and I work for Ajonjofeel\n",
            "I am in charge.\n",
            "My id is 4\n",
            "I am an Admin\n",
            "Username: 4\n",
            "Role: Admin\n",
            "_Ryan deleted\n"
          ]
        }
      ]
    },
    {
      "cell_type": "markdown",
      "source": [
        "Desarrollado por Esteban Ruiz (Esteban.ruizm@upb.edu.co)"
      ],
      "metadata": {
        "id": "gX_Y6LvFYoro"
      }
    }
  ]
}